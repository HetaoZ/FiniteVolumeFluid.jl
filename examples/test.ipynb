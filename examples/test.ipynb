{
 "cells": [
  {
   "cell_type": "code",
   "execution_count": 2,
   "metadata": {},
   "outputs": [
    {
     "name": "stdout",
     "output_type": "stream",
     "text": [
      "(1, 0.0003340765523905305, 0.0003340765523905305)\n",
      "(2, 0.000557406433502483, 0.00022332988111195253)\n",
      "(3, 0.000760556131444011, 0.00020314969794152797)\n",
      "(4, 0.0009523991844031206, 0.00019184305295910964)\n",
      "(5, 0.001137923598610722, 0.0001855244142076014)\n",
      "(6, 0.001319843262026125, 0.00018191966341540302)\n",
      "(7, 0.0014997482894858719, 0.00017990502745974678)\n",
      "(8, 0.0016786541677924235, 0.00017890587830655174)\n",
      "(9, 0.0018572371249360232, 0.00017858295714359978)\n",
      "(10, 0.0020359585932986112, 0.00017872146836258806)\n"
     ]
    }
   ],
   "source": [
    "using FiniteVolumeFluid\n",
    "\n",
    "const gamma = 1.4\n",
    "\n",
    "function initial_condition(x, t)\n",
    "    if t == 0.0\n",
    "        if x[1] < 0.5\n",
    "            rho, u, p = 1, [0,0,0], 1e5\n",
    "        else\n",
    "            rho, u, p = 10, [0,0,0], 1e6\n",
    "        end\n",
    "        e = p/(gamma - 1)/rho\n",
    "        return rho, u, e, p\n",
    "    end\n",
    "end\n",
    "\n",
    "f = Fluid(dim = 3, point1 = (0,0,0), point2 = (10,1,1), ncells = (40, 4, 4), nbound = 2);\n",
    "\n",
    "# set parameters\n",
    "set_parameters(f, \"gamma\"=>1.4, \"CFL\"=>0.5)\n",
    "\n",
    "set_initial_condition(f, initial_condition)\n",
    "\n",
    "set_boundaries(f, (FreeBoundary, FreeBoundary), (ReflBoundary, ReflBoundary), (ReflBoundary, ReflBoundary))\n",
    "\n",
    "set_scheme(f, Muscl())\n",
    "set_scheme(f, Ausm())\n",
    "set_scheme(f, RungeKutta(3))\n",
    "\n",
    "# show(f)\n",
    "\n",
    "tspan = (0, 1)\n",
    "nframe = 0\n",
    "t = 0\n",
    "N = 10000\n",
    "\n",
    "save_mesh(f, \"../../out/coord\")\n",
    "save_to_vtk(f, (\"rho\",\"u\",\"e\",\"p\"), (:rho,:u,:e,:p), \"../../out/fluid_\"*string(N))\n",
    "\n",
    "\n",
    "for frame = 1:10\n",
    "    if t > tspan[2]\n",
    "        break\n",
    "    end\n",
    "    \n",
    "    dt = time_step!(f)\n",
    "    t += dt\n",
    "\n",
    "    advance!(f, dt, t)\n",
    "\n",
    "    save_to_vtk(f, (\"rho\",\"u\",\"e\",\"p\"), (:rho,:u,:e,:p), \"../../out/fluid_\"*string(N + frame))\n",
    "\n",
    "    println((frame, t, dt))\n",
    "end"
   ]
  }
 ],
 "metadata": {
  "kernelspec": {
   "display_name": "Julia 1.8.1",
   "language": "julia",
   "name": "julia-1.8"
  },
  "language_info": {
   "file_extension": ".jl",
   "mimetype": "application/julia",
   "name": "julia",
   "version": "1.6.1"
  },
  "orig_nbformat": 4
 },
 "nbformat": 4,
 "nbformat_minor": 2
}
